{
 "cells": [
  {
   "cell_type": "code",
   "execution_count": 1,
   "id": "73a39c5c-ff90-46e3-8ab8-9b72c4ed189c",
   "metadata": {},
   "outputs": [],
   "source": [
    "import pandas as pd"
   ]
  },
  {
   "cell_type": "code",
   "execution_count": 2,
   "id": "df7c0974-94ad-4067-9e39-3bf343bcfb1c",
   "metadata": {},
   "outputs": [],
   "source": [
    "df = pd.read_csv(r\"C:\\Users\\sahga\\OneDrive\\Desktop\\combined_data.csv\")"
   ]
  },
  {
   "cell_type": "code",
   "execution_count": 3,
   "id": "ec88c94a-13e2-4c2b-900a-77d37507c35d",
   "metadata": {},
   "outputs": [
    {
     "data": {
      "text/html": [
       "<div>\n",
       "<style scoped>\n",
       "    .dataframe tbody tr th:only-of-type {\n",
       "        vertical-align: middle;\n",
       "    }\n",
       "\n",
       "    .dataframe tbody tr th {\n",
       "        vertical-align: top;\n",
       "    }\n",
       "\n",
       "    .dataframe thead th {\n",
       "        text-align: right;\n",
       "    }\n",
       "</style>\n",
       "<table border=\"1\" class=\"dataframe\">\n",
       "  <thead>\n",
       "    <tr style=\"text-align: right;\">\n",
       "      <th></th>\n",
       "      <th>Job Title</th>\n",
       "      <th>Company Name</th>\n",
       "      <th>Experience Range</th>\n",
       "      <th>Salary</th>\n",
       "      <th>Location</th>\n",
       "      <th>Posted Date</th>\n",
       "      <th>Openings</th>\n",
       "      <th>Applicants</th>\n",
       "      <th>Job Description</th>\n",
       "      <th>Keywords</th>\n",
       "    </tr>\n",
       "  </thead>\n",
       "  <tbody>\n",
       "    <tr>\n",
       "      <th>0</th>\n",
       "      <td>Salesforce Administrator</td>\n",
       "      <td>Lutron Gl Sales</td>\n",
       "      <td>5 - 8 years</td>\n",
       "      <td>Not Disclosed</td>\n",
       "      <td>Gurugram</td>\n",
       "      <td>7 days ago</td>\n",
       "      <td>1.0</td>\n",
       "      <td>367</td>\n",
       "      <td>Role &amp; responsibilities\\nDirect the daily work...</td>\n",
       "      <td>Sfdc Development, Salesforce Qa, SFDC, Web Dev...</td>\n",
       "    </tr>\n",
       "    <tr>\n",
       "      <th>1</th>\n",
       "      <td>Application Developer</td>\n",
       "      <td>Accenture</td>\n",
       "      <td>2 - 4 years</td>\n",
       "      <td>Not Disclosed</td>\n",
       "      <td>Noida</td>\n",
       "      <td>8 days ago</td>\n",
       "      <td>NaN</td>\n",
       "      <td>50</td>\n",
       "      <td>Project Role :Application Developer\\n\\n\\nProje...</td>\n",
       "      <td>salesforce platform, salesforce lightning, jav...</td>\n",
       "    </tr>\n",
       "    <tr>\n",
       "      <th>2</th>\n",
       "      <td>Senior Officer</td>\n",
       "      <td>Max Life Insurance</td>\n",
       "      <td>1 - 5 years</td>\n",
       "      <td>Not Disclosed</td>\n",
       "      <td>Bhopal</td>\n",
       "      <td>Few Hours Ago</td>\n",
       "      <td>1.0</td>\n",
       "      <td>Less than 10</td>\n",
       "      <td>Max Life Insurance Company Limited is looking ...</td>\n",
       "      <td>insurance, vendor management, visualforce, pro...</td>\n",
       "    </tr>\n",
       "    <tr>\n",
       "      <th>3</th>\n",
       "      <td>Salesforce Administrator</td>\n",
       "      <td>Lutron Gl Sales</td>\n",
       "      <td>5 - 8 years</td>\n",
       "      <td>Not Disclosed</td>\n",
       "      <td>Gurugram</td>\n",
       "      <td>7 days ago</td>\n",
       "      <td>1.0</td>\n",
       "      <td>367</td>\n",
       "      <td>Role &amp; responsibilities\\nDirect the daily work...</td>\n",
       "      <td>Sfdc Development, Salesforce Qa, SFDC, Web Dev...</td>\n",
       "    </tr>\n",
       "    <tr>\n",
       "      <th>4</th>\n",
       "      <td>Application Developer</td>\n",
       "      <td>Accenture</td>\n",
       "      <td>2 - 4 years</td>\n",
       "      <td>Not Disclosed</td>\n",
       "      <td>Noida</td>\n",
       "      <td>8 days ago</td>\n",
       "      <td>NaN</td>\n",
       "      <td>50</td>\n",
       "      <td>Project Role :Application Developer\\n\\n\\nProje...</td>\n",
       "      <td>salesforce platform, salesforce lightning, jav...</td>\n",
       "    </tr>\n",
       "    <tr>\n",
       "      <th>...</th>\n",
       "      <td>...</td>\n",
       "      <td>...</td>\n",
       "      <td>...</td>\n",
       "      <td>...</td>\n",
       "      <td>...</td>\n",
       "      <td>...</td>\n",
       "      <td>...</td>\n",
       "      <td>...</td>\n",
       "      <td>...</td>\n",
       "      <td>...</td>\n",
       "    </tr>\n",
       "    <tr>\n",
       "      <th>399</th>\n",
       "      <td>Tech Delivery Subject Matter Expert</td>\n",
       "      <td>Accenture</td>\n",
       "      <td>5 - 10 years</td>\n",
       "      <td>Not Disclosed</td>\n",
       "      <td>Gurugram</td>\n",
       "      <td>5 days ago</td>\n",
       "      <td>NaN</td>\n",
       "      <td>Less than 10</td>\n",
       "      <td>Project Role :Tech Delivery Subject Matter Exp...</td>\n",
       "      <td>data analytics, data engineering, sql, process...</td>\n",
       "    </tr>\n",
       "    <tr>\n",
       "      <th>400</th>\n",
       "      <td>Marketing Executive</td>\n",
       "      <td>Aarogya Hospital</td>\n",
       "      <td>5 - 9 years</td>\n",
       "      <td>Not Disclosed</td>\n",
       "      <td>New Delhi</td>\n",
       "      <td>4 days ago</td>\n",
       "      <td>1.0</td>\n",
       "      <td>46</td>\n",
       "      <td>Aarogya Hospital is looking for Marketing Exec...</td>\n",
       "      <td>visualforce, branding, sfdc, business developm...</td>\n",
       "    </tr>\n",
       "    <tr>\n",
       "      <th>401</th>\n",
       "      <td>PowerBI Developer</td>\n",
       "      <td>Rainsoft Global</td>\n",
       "      <td>2 - 4 years</td>\n",
       "      <td>Not Disclosed</td>\n",
       "      <td>Mumbai</td>\n",
       "      <td>5 days ago</td>\n",
       "      <td>1.0</td>\n",
       "      <td>840</td>\n",
       "      <td>We are seeking a skilled Business Intelligence...</td>\n",
       "      <td>Power BI, BI, Data Analytics, Data Science, Or...</td>\n",
       "    </tr>\n",
       "    <tr>\n",
       "      <th>402</th>\n",
       "      <td>SFCC Backend and Frontend Developer</td>\n",
       "      <td>Leuwint Technologies</td>\n",
       "      <td>4 - 9 years</td>\n",
       "      <td>Not Disclosed</td>\n",
       "      <td>Mumbai</td>\n",
       "      <td>6 days ago</td>\n",
       "      <td>NaN</td>\n",
       "      <td>59</td>\n",
       "      <td>Required Skills:\\nHands-On Experience in devel...</td>\n",
       "      <td>SFRA, Demandware Script, Salesforce Commerce C...</td>\n",
       "    </tr>\n",
       "    <tr>\n",
       "      <th>403</th>\n",
       "      <td>Sr. Test Engineer</td>\n",
       "      <td>Essenware</td>\n",
       "      <td>3 - 6 years</td>\n",
       "      <td>Not Disclosed</td>\n",
       "      <td>Kolkata</td>\n",
       "      <td>5 days ago</td>\n",
       "      <td>1.0</td>\n",
       "      <td>2002</td>\n",
       "      <td>3 to 6 years experience in Test Engineer role ...</td>\n",
       "      <td>Training, Test case execution, Manual testing,...</td>\n",
       "    </tr>\n",
       "  </tbody>\n",
       "</table>\n",
       "<p>404 rows × 10 columns</p>\n",
       "</div>"
      ],
      "text/plain": [
       "                               Job Title          Company Name  \\\n",
       "0               Salesforce Administrator       Lutron Gl Sales   \n",
       "1                  Application Developer             Accenture   \n",
       "2                         Senior Officer    Max Life Insurance   \n",
       "3               Salesforce Administrator       Lutron Gl Sales   \n",
       "4                  Application Developer             Accenture   \n",
       "..                                   ...                   ...   \n",
       "399  Tech Delivery Subject Matter Expert             Accenture   \n",
       "400                  Marketing Executive      Aarogya Hospital   \n",
       "401                    PowerBI Developer       Rainsoft Global   \n",
       "402  SFCC Backend and Frontend Developer  Leuwint Technologies   \n",
       "403                    Sr. Test Engineer             Essenware   \n",
       "\n",
       "    Experience Range         Salary   Location    Posted Date  Openings  \\\n",
       "0        5 - 8 years  Not Disclosed   Gurugram     7 days ago       1.0   \n",
       "1        2 - 4 years  Not Disclosed      Noida     8 days ago       NaN   \n",
       "2        1 - 5 years  Not Disclosed     Bhopal  Few Hours Ago       1.0   \n",
       "3        5 - 8 years  Not Disclosed   Gurugram     7 days ago       1.0   \n",
       "4        2 - 4 years  Not Disclosed      Noida     8 days ago       NaN   \n",
       "..               ...            ...        ...            ...       ...   \n",
       "399     5 - 10 years  Not Disclosed   Gurugram     5 days ago       NaN   \n",
       "400      5 - 9 years  Not Disclosed  New Delhi     4 days ago       1.0   \n",
       "401      2 - 4 years  Not Disclosed     Mumbai     5 days ago       1.0   \n",
       "402      4 - 9 years  Not Disclosed     Mumbai     6 days ago       NaN   \n",
       "403      3 - 6 years  Not Disclosed    Kolkata     5 days ago       1.0   \n",
       "\n",
       "       Applicants                                    Job Description  \\\n",
       "0             367  Role & responsibilities\\nDirect the daily work...   \n",
       "1              50  Project Role :Application Developer\\n\\n\\nProje...   \n",
       "2    Less than 10  Max Life Insurance Company Limited is looking ...   \n",
       "3             367  Role & responsibilities\\nDirect the daily work...   \n",
       "4              50  Project Role :Application Developer\\n\\n\\nProje...   \n",
       "..            ...                                                ...   \n",
       "399  Less than 10  Project Role :Tech Delivery Subject Matter Exp...   \n",
       "400            46  Aarogya Hospital is looking for Marketing Exec...   \n",
       "401           840  We are seeking a skilled Business Intelligence...   \n",
       "402            59  Required Skills:\\nHands-On Experience in devel...   \n",
       "403          2002  3 to 6 years experience in Test Engineer role ...   \n",
       "\n",
       "                                              Keywords  \n",
       "0    Sfdc Development, Salesforce Qa, SFDC, Web Dev...  \n",
       "1    salesforce platform, salesforce lightning, jav...  \n",
       "2    insurance, vendor management, visualforce, pro...  \n",
       "3    Sfdc Development, Salesforce Qa, SFDC, Web Dev...  \n",
       "4    salesforce platform, salesforce lightning, jav...  \n",
       "..                                                 ...  \n",
       "399  data analytics, data engineering, sql, process...  \n",
       "400  visualforce, branding, sfdc, business developm...  \n",
       "401  Power BI, BI, Data Analytics, Data Science, Or...  \n",
       "402  SFRA, Demandware Script, Salesforce Commerce C...  \n",
       "403  Training, Test case execution, Manual testing,...  \n",
       "\n",
       "[404 rows x 10 columns]"
      ]
     },
     "execution_count": 3,
     "metadata": {},
     "output_type": "execute_result"
    }
   ],
   "source": [
    "df"
   ]
  },
  {
   "cell_type": "code",
   "execution_count": 4,
   "id": "8c5ee457-24f9-47d3-8769-874bc7c6713a",
   "metadata": {},
   "outputs": [
    {
     "data": {
      "text/plain": [
       "Job Title             2\n",
       "Company Name          2\n",
       "Experience Range      2\n",
       "Salary                2\n",
       "Location              2\n",
       "Posted Date           2\n",
       "Openings            145\n",
       "Applicants            2\n",
       "Job Description       0\n",
       "Keywords              0\n",
       "dtype: int64"
      ]
     },
     "execution_count": 4,
     "metadata": {},
     "output_type": "execute_result"
    }
   ],
   "source": [
    "df.isnull().sum()"
   ]
  },
  {
   "cell_type": "code",
   "execution_count": 5,
   "id": "98492d4f-f9d4-477c-a633-c2d3a0fa8799",
   "metadata": {},
   "outputs": [
    {
     "name": "stdout",
     "output_type": "stream",
     "text": [
      "<class 'pandas.core.frame.DataFrame'>\n",
      "RangeIndex: 404 entries, 0 to 403\n",
      "Data columns (total 10 columns):\n",
      " #   Column            Non-Null Count  Dtype  \n",
      "---  ------            --------------  -----  \n",
      " 0   Job Title         402 non-null    object \n",
      " 1   Company Name      402 non-null    object \n",
      " 2   Experience Range  402 non-null    object \n",
      " 3   Salary            402 non-null    object \n",
      " 4   Location          402 non-null    object \n",
      " 5   Posted Date       402 non-null    object \n",
      " 6   Openings          259 non-null    float64\n",
      " 7   Applicants        402 non-null    object \n",
      " 8   Job Description   404 non-null    object \n",
      " 9   Keywords          404 non-null    object \n",
      "dtypes: float64(1), object(9)\n",
      "memory usage: 31.7+ KB\n"
     ]
    }
   ],
   "source": [
    "df.info()"
   ]
  },
  {
   "cell_type": "code",
   "execution_count": 6,
   "id": "92f82b23-bf89-4085-9a4d-78d82933cbbe",
   "metadata": {},
   "outputs": [
    {
     "data": {
      "text/plain": [
       "array([ 1., nan,  2.,  5., 15.])"
      ]
     },
     "execution_count": 6,
     "metadata": {},
     "output_type": "execute_result"
    }
   ],
   "source": [
    "df[\"Openings\"].unique()"
   ]
  },
  {
   "cell_type": "code",
   "execution_count": 7,
   "id": "58f35360-b1a5-4fae-95da-2380eaec35f2",
   "metadata": {},
   "outputs": [
    {
     "data": {
      "text/plain": [
       "(404, 10)"
      ]
     },
     "execution_count": 7,
     "metadata": {},
     "output_type": "execute_result"
    }
   ],
   "source": [
    "df.shape"
   ]
  },
  {
   "cell_type": "code",
   "execution_count": 8,
   "id": "52ea9f18-7e24-4fb8-b075-c214a14962e6",
   "metadata": {},
   "outputs": [],
   "source": [
    "# null values in Openings by filling with 0\n",
    "df['Openings'] = df['Openings'].fillna(0)"
   ]
  },
  {
   "cell_type": "code",
   "execution_count": 9,
   "id": "756dde19-40cf-454b-838b-75c0b8979169",
   "metadata": {},
   "outputs": [],
   "source": [
    "df = df.dropna(subset=['Job Title'])"
   ]
  },
  {
   "cell_type": "code",
   "execution_count": 10,
   "id": "beb7c151-2622-41b0-ab9a-1e0122930814",
   "metadata": {},
   "outputs": [
    {
     "data": {
      "text/plain": [
       "(402, 10)"
      ]
     },
     "execution_count": 10,
     "metadata": {},
     "output_type": "execute_result"
    }
   ],
   "source": [
    "df.shape"
   ]
  },
  {
   "cell_type": "code",
   "execution_count": 11,
   "id": "5851e1cc-8c41-4dec-8211-c08e563025ca",
   "metadata": {},
   "outputs": [
    {
     "data": {
      "text/plain": [
       "Job Title           0\n",
       "Company Name        0\n",
       "Experience Range    0\n",
       "Salary              0\n",
       "Location            0\n",
       "Posted Date         0\n",
       "Openings            0\n",
       "Applicants          0\n",
       "Job Description     0\n",
       "Keywords            0\n",
       "dtype: int64"
      ]
     },
     "execution_count": 11,
     "metadata": {},
     "output_type": "execute_result"
    }
   ],
   "source": [
    "df.isnull().sum()"
   ]
  },
  {
   "cell_type": "code",
   "execution_count": 12,
   "id": "40b4c0aa-69bf-4930-a506-4dff7628d90f",
   "metadata": {},
   "outputs": [
    {
     "data": {
      "text/plain": [
       "array(['5 - 8 years', '2 - 4 years', '1 - 5 years', '3 - 5 years',\n",
       "       '2 - 6 years', '5 - 7 years', '0 - 1 years', '4 - 8 years',\n",
       "       '3 - 8 years', '5 - 9 years', '7 - 9 years', '5 - 10 years',\n",
       "       '4 - 9 years', '3 - 6 years'], dtype=object)"
      ]
     },
     "execution_count": 12,
     "metadata": {},
     "output_type": "execute_result"
    }
   ],
   "source": [
    "df[\"Experience Range\"].unique()"
   ]
  },
  {
   "cell_type": "code",
   "execution_count": 13,
   "id": "dcfaec50-fec1-4b74-ab3b-b92990fcc909",
   "metadata": {},
   "outputs": [
    {
     "name": "stderr",
     "output_type": "stream",
     "text": [
      "C:\\Users\\sahga\\AppData\\Local\\Temp\\ipykernel_11028\\2078357077.py:1: SettingWithCopyWarning: \n",
      "A value is trying to be set on a copy of a slice from a DataFrame.\n",
      "Try using .loc[row_indexer,col_indexer] = value instead\n",
      "\n",
      "See the caveats in the documentation: https://pandas.pydata.org/pandas-docs/stable/user_guide/indexing.html#returning-a-view-versus-a-copy\n",
      "  df['Experience Range'] = df['Experience Range'].str.replace('years', '')\n"
     ]
    }
   ],
   "source": [
    "df['Experience Range'] = df['Experience Range'].str.replace('years', '')"
   ]
  },
  {
   "cell_type": "code",
   "execution_count": 14,
   "id": "cb33159c-51ee-412e-a34b-1ac247c1ba31",
   "metadata": {},
   "outputs": [
    {
     "data": {
      "text/html": [
       "<div>\n",
       "<style scoped>\n",
       "    .dataframe tbody tr th:only-of-type {\n",
       "        vertical-align: middle;\n",
       "    }\n",
       "\n",
       "    .dataframe tbody tr th {\n",
       "        vertical-align: top;\n",
       "    }\n",
       "\n",
       "    .dataframe thead th {\n",
       "        text-align: right;\n",
       "    }\n",
       "</style>\n",
       "<table border=\"1\" class=\"dataframe\">\n",
       "  <thead>\n",
       "    <tr style=\"text-align: right;\">\n",
       "      <th></th>\n",
       "      <th>Job Title</th>\n",
       "      <th>Company Name</th>\n",
       "      <th>Experience Range</th>\n",
       "      <th>Salary</th>\n",
       "      <th>Location</th>\n",
       "      <th>Posted Date</th>\n",
       "      <th>Openings</th>\n",
       "      <th>Applicants</th>\n",
       "      <th>Job Description</th>\n",
       "      <th>Keywords</th>\n",
       "    </tr>\n",
       "  </thead>\n",
       "  <tbody>\n",
       "    <tr>\n",
       "      <th>0</th>\n",
       "      <td>Salesforce Administrator</td>\n",
       "      <td>Lutron Gl Sales</td>\n",
       "      <td>5 - 8</td>\n",
       "      <td>Not Disclosed</td>\n",
       "      <td>Gurugram</td>\n",
       "      <td>7 days ago</td>\n",
       "      <td>1.0</td>\n",
       "      <td>367</td>\n",
       "      <td>Role &amp; responsibilities\\nDirect the daily work...</td>\n",
       "      <td>Sfdc Development, Salesforce Qa, SFDC, Web Dev...</td>\n",
       "    </tr>\n",
       "    <tr>\n",
       "      <th>1</th>\n",
       "      <td>Application Developer</td>\n",
       "      <td>Accenture</td>\n",
       "      <td>2 - 4</td>\n",
       "      <td>Not Disclosed</td>\n",
       "      <td>Noida</td>\n",
       "      <td>8 days ago</td>\n",
       "      <td>0.0</td>\n",
       "      <td>50</td>\n",
       "      <td>Project Role :Application Developer\\n\\n\\nProje...</td>\n",
       "      <td>salesforce platform, salesforce lightning, jav...</td>\n",
       "    </tr>\n",
       "    <tr>\n",
       "      <th>2</th>\n",
       "      <td>Senior Officer</td>\n",
       "      <td>Max Life Insurance</td>\n",
       "      <td>1 - 5</td>\n",
       "      <td>Not Disclosed</td>\n",
       "      <td>Bhopal</td>\n",
       "      <td>Few Hours Ago</td>\n",
       "      <td>1.0</td>\n",
       "      <td>Less than 10</td>\n",
       "      <td>Max Life Insurance Company Limited is looking ...</td>\n",
       "      <td>insurance, vendor management, visualforce, pro...</td>\n",
       "    </tr>\n",
       "    <tr>\n",
       "      <th>3</th>\n",
       "      <td>Salesforce Administrator</td>\n",
       "      <td>Lutron Gl Sales</td>\n",
       "      <td>5 - 8</td>\n",
       "      <td>Not Disclosed</td>\n",
       "      <td>Gurugram</td>\n",
       "      <td>7 days ago</td>\n",
       "      <td>1.0</td>\n",
       "      <td>367</td>\n",
       "      <td>Role &amp; responsibilities\\nDirect the daily work...</td>\n",
       "      <td>Sfdc Development, Salesforce Qa, SFDC, Web Dev...</td>\n",
       "    </tr>\n",
       "    <tr>\n",
       "      <th>4</th>\n",
       "      <td>Application Developer</td>\n",
       "      <td>Accenture</td>\n",
       "      <td>2 - 4</td>\n",
       "      <td>Not Disclosed</td>\n",
       "      <td>Noida</td>\n",
       "      <td>8 days ago</td>\n",
       "      <td>0.0</td>\n",
       "      <td>50</td>\n",
       "      <td>Project Role :Application Developer\\n\\n\\nProje...</td>\n",
       "      <td>salesforce platform, salesforce lightning, jav...</td>\n",
       "    </tr>\n",
       "    <tr>\n",
       "      <th>...</th>\n",
       "      <td>...</td>\n",
       "      <td>...</td>\n",
       "      <td>...</td>\n",
       "      <td>...</td>\n",
       "      <td>...</td>\n",
       "      <td>...</td>\n",
       "      <td>...</td>\n",
       "      <td>...</td>\n",
       "      <td>...</td>\n",
       "      <td>...</td>\n",
       "    </tr>\n",
       "    <tr>\n",
       "      <th>399</th>\n",
       "      <td>Tech Delivery Subject Matter Expert</td>\n",
       "      <td>Accenture</td>\n",
       "      <td>5 - 10</td>\n",
       "      <td>Not Disclosed</td>\n",
       "      <td>Gurugram</td>\n",
       "      <td>5 days ago</td>\n",
       "      <td>0.0</td>\n",
       "      <td>Less than 10</td>\n",
       "      <td>Project Role :Tech Delivery Subject Matter Exp...</td>\n",
       "      <td>data analytics, data engineering, sql, process...</td>\n",
       "    </tr>\n",
       "    <tr>\n",
       "      <th>400</th>\n",
       "      <td>Marketing Executive</td>\n",
       "      <td>Aarogya Hospital</td>\n",
       "      <td>5 - 9</td>\n",
       "      <td>Not Disclosed</td>\n",
       "      <td>New Delhi</td>\n",
       "      <td>4 days ago</td>\n",
       "      <td>1.0</td>\n",
       "      <td>46</td>\n",
       "      <td>Aarogya Hospital is looking for Marketing Exec...</td>\n",
       "      <td>visualforce, branding, sfdc, business developm...</td>\n",
       "    </tr>\n",
       "    <tr>\n",
       "      <th>401</th>\n",
       "      <td>PowerBI Developer</td>\n",
       "      <td>Rainsoft Global</td>\n",
       "      <td>2 - 4</td>\n",
       "      <td>Not Disclosed</td>\n",
       "      <td>Mumbai</td>\n",
       "      <td>5 days ago</td>\n",
       "      <td>1.0</td>\n",
       "      <td>840</td>\n",
       "      <td>We are seeking a skilled Business Intelligence...</td>\n",
       "      <td>Power BI, BI, Data Analytics, Data Science, Or...</td>\n",
       "    </tr>\n",
       "    <tr>\n",
       "      <th>402</th>\n",
       "      <td>SFCC Backend and Frontend Developer</td>\n",
       "      <td>Leuwint Technologies</td>\n",
       "      <td>4 - 9</td>\n",
       "      <td>Not Disclosed</td>\n",
       "      <td>Mumbai</td>\n",
       "      <td>6 days ago</td>\n",
       "      <td>0.0</td>\n",
       "      <td>59</td>\n",
       "      <td>Required Skills:\\nHands-On Experience in devel...</td>\n",
       "      <td>SFRA, Demandware Script, Salesforce Commerce C...</td>\n",
       "    </tr>\n",
       "    <tr>\n",
       "      <th>403</th>\n",
       "      <td>Sr. Test Engineer</td>\n",
       "      <td>Essenware</td>\n",
       "      <td>3 - 6</td>\n",
       "      <td>Not Disclosed</td>\n",
       "      <td>Kolkata</td>\n",
       "      <td>5 days ago</td>\n",
       "      <td>1.0</td>\n",
       "      <td>2002</td>\n",
       "      <td>3 to 6 years experience in Test Engineer role ...</td>\n",
       "      <td>Training, Test case execution, Manual testing,...</td>\n",
       "    </tr>\n",
       "  </tbody>\n",
       "</table>\n",
       "<p>402 rows × 10 columns</p>\n",
       "</div>"
      ],
      "text/plain": [
       "                               Job Title          Company Name  \\\n",
       "0               Salesforce Administrator       Lutron Gl Sales   \n",
       "1                  Application Developer             Accenture   \n",
       "2                         Senior Officer    Max Life Insurance   \n",
       "3               Salesforce Administrator       Lutron Gl Sales   \n",
       "4                  Application Developer             Accenture   \n",
       "..                                   ...                   ...   \n",
       "399  Tech Delivery Subject Matter Expert             Accenture   \n",
       "400                  Marketing Executive      Aarogya Hospital   \n",
       "401                    PowerBI Developer       Rainsoft Global   \n",
       "402  SFCC Backend and Frontend Developer  Leuwint Technologies   \n",
       "403                    Sr. Test Engineer             Essenware   \n",
       "\n",
       "    Experience Range         Salary   Location    Posted Date  Openings  \\\n",
       "0             5 - 8   Not Disclosed   Gurugram     7 days ago       1.0   \n",
       "1             2 - 4   Not Disclosed      Noida     8 days ago       0.0   \n",
       "2             1 - 5   Not Disclosed     Bhopal  Few Hours Ago       1.0   \n",
       "3             5 - 8   Not Disclosed   Gurugram     7 days ago       1.0   \n",
       "4             2 - 4   Not Disclosed      Noida     8 days ago       0.0   \n",
       "..               ...            ...        ...            ...       ...   \n",
       "399          5 - 10   Not Disclosed   Gurugram     5 days ago       0.0   \n",
       "400           5 - 9   Not Disclosed  New Delhi     4 days ago       1.0   \n",
       "401           2 - 4   Not Disclosed     Mumbai     5 days ago       1.0   \n",
       "402           4 - 9   Not Disclosed     Mumbai     6 days ago       0.0   \n",
       "403           3 - 6   Not Disclosed    Kolkata     5 days ago       1.0   \n",
       "\n",
       "       Applicants                                    Job Description  \\\n",
       "0             367  Role & responsibilities\\nDirect the daily work...   \n",
       "1              50  Project Role :Application Developer\\n\\n\\nProje...   \n",
       "2    Less than 10  Max Life Insurance Company Limited is looking ...   \n",
       "3             367  Role & responsibilities\\nDirect the daily work...   \n",
       "4              50  Project Role :Application Developer\\n\\n\\nProje...   \n",
       "..            ...                                                ...   \n",
       "399  Less than 10  Project Role :Tech Delivery Subject Matter Exp...   \n",
       "400            46  Aarogya Hospital is looking for Marketing Exec...   \n",
       "401           840  We are seeking a skilled Business Intelligence...   \n",
       "402            59  Required Skills:\\nHands-On Experience in devel...   \n",
       "403          2002  3 to 6 years experience in Test Engineer role ...   \n",
       "\n",
       "                                              Keywords  \n",
       "0    Sfdc Development, Salesforce Qa, SFDC, Web Dev...  \n",
       "1    salesforce platform, salesforce lightning, jav...  \n",
       "2    insurance, vendor management, visualforce, pro...  \n",
       "3    Sfdc Development, Salesforce Qa, SFDC, Web Dev...  \n",
       "4    salesforce platform, salesforce lightning, jav...  \n",
       "..                                                 ...  \n",
       "399  data analytics, data engineering, sql, process...  \n",
       "400  visualforce, branding, sfdc, business developm...  \n",
       "401  Power BI, BI, Data Analytics, Data Science, Or...  \n",
       "402  SFRA, Demandware Script, Salesforce Commerce C...  \n",
       "403  Training, Test case execution, Manual testing,...  \n",
       "\n",
       "[402 rows x 10 columns]"
      ]
     },
     "execution_count": 14,
     "metadata": {},
     "output_type": "execute_result"
    }
   ],
   "source": [
    "df"
   ]
  },
  {
   "cell_type": "code",
   "execution_count": 15,
   "id": "eaa5e809-b7aa-4121-bd75-84eefbe2ae03",
   "metadata": {},
   "outputs": [
    {
     "data": {
      "text/plain": [
       "array([\"Role & responsibilities\\nDirect the daily work of the A3E Application Development Support Team which includes web hosting and Salesforce.com support\\nOversee and perform content authoring, minor code changes, and configuration changes for web content management system, Drupal and Acquia\\nOversee and build out dashboards in Google Looker Studio and Microsoft Azure\\nOversee configuration changes in Salesforce.com such as user creation/update, permission changes, data updates, and troubleshoot log in issues.\\nPerform project management activities for small projects using techniques from Kanban, Scrum, or waterfall models\\nSet daily team priorities based on business and IT team requirements\\nEnsure the quality of the work output of team assignments\\nEvaluate and implement changes in work processes to maximize efficiency and quality of team's work\\nPreferred candidate profile\\n4 year degree in Computer Science, Computer Engineering, or equivalent\\n5-8 years experience working in an Information Technology field\\nTeam Handling is preferred\\nSalesforce Developer/Web Developer in the current role is a must\\nRequired experience with SalesForce.com platform, Microsoft Azure, and Web Content Management Systems, Drupal and Acquia preferred\",\n",
       "       'Project Role :Application Developer\\n\\n\\nProject Role Description :Design, build and configure applications to meet business process and application requirements.\\nMust have skills :Salesforce Lightning Web Components\\n\\nGood to have skills :NA\\nMinimum 2 year(s) of experience is required\\n\\nEducational Qualification :Graduate\\nSummary:As an Application Developer, you will be responsible for designing, building, and configuring applications to meet business process and application requirements using Salesforce Lightning Web Components. Your typical day will involve working with the Salesforce platform, developing and testing code, and collaborating with cross-functional teams to deliver high-quality solutions.\\nRoles & Responsibilities:\\nDesign, develop, and maintain custom applications using Salesforce Lightning Web Components.\\nCollaborate with cross-functional teams to gather and analyze business requirements, and translate them into technical solutions.\\nDevelop and test code to ensure high-quality solutions that meet business requirements.\\nProvide technical expertise and guidance to team members, and ensure adherence to best practices and coding standards. Professional & Technical Skills:\\nMust To Have Skills:Proficiency in Salesforce Lightning Web Components.\\nGood To Have Skills:Experience with Salesforce Apex, Visualforce, and Lightning Aura Components.\\nStrong understanding of Salesforce platform and its capabilities.\\nExperience with Agile development methodologies.\\nSolid grasp of web development technologies such as HTML, CSS, and JavaScript. Additional Information:\\nThe candidate should have a minimum of 2 years of experience in Salesforce Lightning Web Components.\\nThe ideal candidate will possess a strong educational background in computer science or a related field, along with a proven track record of delivering impactful solutions on the Salesforce platform.\\nThis position is based at our Noida office.QualificationGraduate',\n",
       "       \"Max Life Insurance Company Limited is looking for Senior Officer to join our dynamic team and embark on a rewarding career journey\\nThe Senior Officer plays a crucial role in the organization, responsible for overseeing and executing various tasks and projects to ensure the smooth functioning of operations\\nThis role requires strong leadership, analytical skills, and the ability to collaborate effectively with team members and stakeholders\\nKey Responsibilities:\\nLeadership:Provide leadership and guidance to team members, fostering a positive work environment\\nLead by example, demonstrating professionalism, integrity, and dedication to the organization's goals and values\\nProject Management:Manage and coordinate projects from initiation to completion, ensuring adherence to timelines and budget constraints\\nDevelop project plans, allocate resources, and monitor progress to achieve project objectives\\nIdentify and mitigate risks to project success, implementing appropriate solutions as needed\\nOperational Efficiency:Streamline processes and procedures to improve operational efficiency and effectiveness\\nIdentify opportunities for automation or technological enhancements to optimize workflow and productivity\\nCollaborate with cross-functional teams to implement process improvements and best practices\\nData Analysis and Reporting:Analyze data to identify trends, patterns, and insights relevant to the organization's objectives\\nGenerate reports and presentations to communicate findings and recommendations to key stakeholders\\nUtilize data-driven insights to inform decision-making and drive continuous improvement initiatives\\nStakeholder Engagement:Build and maintain relationships with internal and external stakeholders, including clients, partners, and vendors\\nCollaborate with stakeholders to understand their needs and requirements, ensuring alignment with organizational objectives\\nEffectively communicate project updates, issues, and resolutions to stakeholders, fostering transparency and trust\\nCompliance and Risk Management:Ensure compliance with relevant laws, regulations, and internal policies and procedures\\nProactively identify and address potential risks and compliance issues, implementing appropriate controls and safeguards\\nKeep abreast of industry developments and best practices to inform risk management strategies\",\n",
       "       'Project Role :Software Development Engineer\\n\\n\\nProject Role Description :Analyze, design, code and test multiple components of application code across one or more clients. Perform maintenance, enhancements and/or development work.\\nMust have skills :Salesforce Lightning Web Components\\n\\nGood to have skills :NA\\nMinimum 3 year(s) of experience is required\\n\\nEducational Qualification :15 Years of full time education\\nSummary:As a Software Development Engineer, you will be responsible for analyzing, designing, coding, and testing multiple components of application code using Salesforce Lightning Web Components. Your typical day will involve working with clients, performing maintenance, enhancements, and development work.\\nRoles & Responsibilities:\\nDesign, develop, and maintain Salesforce Lightning Web Components for multiple clients.\\nCollaborate with cross-functional teams to analyze, design, code, and test application components.\\nPerform maintenance, enhancements, and development work on existing Salesforce Lightning Web Components.\\nEnsure the quality of code by performing unit testing and code reviews. Professional & Technical Skills:\\nMust To Have Skills:Proficiency in Salesforce Lightning Web Components.\\nGood To Have Skills:Experience with Salesforce Apex, Salesforce Visualforce, and Salesforce Integration.\\nStrong understanding of Salesforce platform and architecture.\\nExperience with Agile development methodologies.\\nSolid grasp of web development technologies such as HTML, CSS, and JavaScript. Additional Information:\\nThe candidate should have a minimum of 3 years of experience in Salesforce Lightning Web Components.\\nThe ideal candidate will possess a strong educational background in computer science or a related field, along with a proven track record of delivering impactful solutions using Salesforce Lightning Web Components.\\nThis position is based at our Hyderabad office.Qualification15 Years of full time education',\n",
       "       \"Entity:- Accenture Strategy & Consulting\\nTeam:- Global Network Data & AI\\nPractice:- Life Sciences\\nTitle:- Ind & Func AI Decision Science Consultant\\n\\nJob Location:- Gurgaon, Mumbai, Bangalore\\nAbout Strategy & Consulting Global Network:- Accenture S&C Global Network - Data & AI practice help our clients grow their business in entirely new ways. Analytics enables our clients to achieve high performance through insights from data - insights that inform better decisions and strengthen customer relationships. From strategy to execution, Accenture works with organizations to develop analytic capabilities - from accessing and reporting on data to predictive modelling - to outperform the competition.\\nWHAT'S IN IT FOR YOU?\\nAn opportunity to work on high-visibility projects with top Pharma clients around the globe.\\nPotential to Co-create with leaders in strategy, industry experts, enterprise function practitioners, and business intelligence professionals to shape and recommend innovative solutions that leverage emerging technologies.\\nAbility to embed responsible business into everythingfrom how you service your clients to how you operate as a responsible professional.\\nPersonalized training modules to develop your strategy & consulting acumen to grow your skills, industry knowledge, and capabilities.\\nOpportunity to thrive in a culture that is committed to accelerating equality for all. Engage in boundaryless collaboration across the entire organization.\\nWhat you would do in this role\\nSupport delivery of small to medium-sized teams to deliver consulting projects for global clients.\\nResponsibilities may include strategy, implementation, process design, and change management for specific modules.\\nWork with the team or as an Individual contributor on the project assigned which includes a variety of skills to be utilized from Data Engineering to Data Science\\nProvide Subject matter expertise in various sub-segments of the LS industry.\\nDevelop assets and methodologies, point-of-view, research, or white papers for use by the team and the larger community.\\nAcquire new skills that have utility across industry groups.\\nSupport strategies and operating models focused on some business units and assess likely competitive responses. Also, assess implementation readiness and points of greatest impact.\\nCo-lead proposals, and business development efforts and coordinate with other colleagues to create consensus-driven deliverables.\\nExecute a transformational change plan aligned with the client's business strategy and context for change. Engage stakeholders in the change journey and build commitment to change.\\nMake presentations wherever required to a known audience or client on functional aspects of his or her domain.\",\n",
       "       \"Project Role :Business Function Implement Practitioner\\n\\n\\nProject Role Description :Support the implementation of activities for a specific business function to improve performance for a function end to end. Activities include analyzing and designing/re-designing business processes and/or defining parts of an organization.\\nMust have skills :Salesforce Service Cloud\\n\\nGood to have skills :NA\\nMinimum 5 year(s) of experience is required\\n\\nEducational Qualification :MBA\\nSummary:As a Business Function Implement Practitioner for Salesforce Service Cloud, you will be responsible for supporting the implementation of activities for a specific business function to improve performance for a function end to end. Your typical day will involve analyzing and designing/re-designing business processes and/or defining parts of an organization.\\nRoles & Responsibilities:\\nLead the implementation of Salesforce Service Cloud for a specific business function, ensuring that it meets the requirements of the organization.\\nAnalyze and design/re-design business processes to improve performance for a function end to end.\\nDefine parts of an organization to ensure that they are aligned with the business function's goals and objectives.\\nCollaborate with cross-functional teams to ensure that the implementation of Salesforce Service Cloud is successful and meets the needs of the organization. Professional & Technical Skills:\\nMust To Have Skills:At least 5 years of experience in Salesforce Service Cloud.\\nGood To Have Skills:Experience in other Salesforce products such as Sales Cloud, Marketing Cloud, and Community Cloud.\\nStrong understanding of business processes and how they can be improved through the use of technology.\\nExperience in designing and implementing Salesforce Service Cloud solutions for a specific business function.\\nExperience in defining parts of an organization to ensure that they are aligned with the business function's goals and objectives. Additional Information:\\nThe candidate should have a minimum of 5 years of experience in Salesforce Service Cloud.\\nThe ideal candidate will possess a strong educational background in technology, business, or a related field, along with a proven track record of delivering impactful solutions.\\nThis position is based at our Bengaluru office.\",\n",
       "       \"Position Overview: We are seeking a highly motivated and talented AI & ML Intern to join our team and assist in the development and implementation of AI-driven solutions. This internship offers a unique opportunity to gain hands-on experience in leveraging AI and ML techniques to solve real-world healthcare challenges.\\nResponsibilities:\\nCollaborate with cross-functional teams to understand business requirements and develop AI/ML models that address healthcare-related problems.\\nAssist in data collection, preprocessing, and feature engineering to prepare datasets for analysis and modeling.\\nBuild and train predictive models using Python and popular ML libraries such as TensorFlow, PyTorch, or scikit-learn.\\nImplement data pipelines and workflows, incorporating SQL for data retrieval and manipulation.\\nExplore and experiment with advanced AI techniques, including deep learning, natural language processing, and computer vision.\\nContribute to the design and evaluation of algorithms, conducting experiments and analyzing results to improve model performance.\\nStay current with emerging trends and technologies in AI, ML, and healthcare to inform project development and decision-making.\\nQualifications:\\nHave a degree or Pursuing a degree in Computer Science, Data Science, Engineering, or a related field.\\nStrong proficiency in Python programming and SQL database management.\\nFamiliarity with AI and ML concepts and algorithms, demonstrated through coursework, projects, or relevant experience.\\nExposure or experience with AI techniques such as deep learning, reinforcement learning, or generative adversarial networks is a plus.\\nPassion for healthcare and a desire to apply AI/ML to address challenges in the industry.\\nExcellent problem-solving skills, analytical thinking, and attention to detail.\\nAbility to work independently as well as collaboratively in a fast-paced, dynamic environment.\\nStrong communication skills and the ability to convey technical concepts effectively.\\nBenefits:\\nGain hands-on experience working on impactful projects at the intersection of AI, ML, and healthcare.\\nCollaborate with a talented and passionate team of professionals dedicated to driving innovation.\\nMentorship and guidance from experienced AI and healthcare professionals.\\nOpportunity to contribute to meaningful advancements in personalized healthcare and make a positive impact on patient lives.\\nFlexible working hours and the possibility of remote work arrangements.\\nPotential for future career growth and opportunities within the company.\\nLocation: Remote 100%\\nIf you're passionate about leveraging AI and ML to revolutionize healthcare and eager to make a difference, we want to hear from you! Join us on our journey to transform the future of healthcare. Apply now by sending your resume and a cover letter outlining your interest and qualifications for the AI & ML Intern position.\\nLocation: Delhi / NCR, Bengaluru,Hyderabad/Secunderabad,Chennai,Pune,Kolkata,Ahmedabad,Mumbai\",\n",
       "       \"As a Salesforce Developer at Spektra Systems, you will play a critical role in designing, developing, and customizing our Salesforce solutions to meet the specific needs of our business processes. You will collaborate with cross-functional teams to implement enhancements, integrate third-party applications, and optimize the platform's performance. Your expertise in Salesforce development will contribute to the overall success of our product technology initiatives.\\nYou are expected to work with various teams to identify business challenges and contribute to client deliverables by refining, analysing, and structuring relevant data awareness of the latest technologies and trends. Logical thinking and problem-solving skills along with an ability to collaborate. Ability to assess the current processes, identify areas of improvement and suggest the technology solutions.\\nKey Responsibilities\\nDesign, develop, and maintain customized Salesforce solutions including custom objects, workflows, triggers, Visualforce pages, Lightning components, and Apex classes.Collaborate with business stakeholders to gather requirements and translate them into technical solutions within the Salesforce platform.\\nParticipate in the full software development lifecycle, from requirements gathering to testing, deployment, and ongoing support.Implement data integrations between Salesforce and external systems using APIs, web services, and middleware tools.Troubleshoot and resolve technical issues related to the Salesforce platform and its integrations.Optimize Salesforce performance by identifying and addressing bottlenecks, data quality issues, and process inefficiencies.Adhere to the Salesforce recommended best practices.\\nStay up to date with the latest Salesforce features, releases, and best practices to recommend improvements and new capabilities.Document technical specifications, configurations, and customizations to ensure comprehensive understanding and maintainability of the solutions.Collaborate with other developers, administrators, and stakeholders to achieve project goals and deliver high-quality solutions on time.\\nRequirements\\nBachelors degree in computer science, Information Technology, or a related field.hands-on experience in Salesforce development, including Lightning Framework, Apex, Visualforce, Native, and Salesforce APIs.Salesforce->Lightning Web Components (LWC)Salesforce->Classic (SFDC/ salesforce.com/ force.com/ salesforcedotcom)Familiarity with agile development methodologies and version control systems.\\nStrong problem-solving skills and the ability to work effectively in a collaborative team environment.Excellent communication skills, both written and verbal, with the ability to convey technical concepts to non-technical stakeholders.Proficiency in web technologies such as HTML, CSS, JavaScript, and RESTful APIs.\\nExperience in packaging solutions and publishing to App Exchange is an added advantage.Experience with integration tools and middleware solutions is a plus.Salesforce Developer certifications (such as Salesforce Platform Developer I) are preferred.Knowledge of best practices for security and data privacy within the Salesforce ecosystem.\\nLocation-Remote,Delhi NCR,Bangalore,Chennai,Pune,Kolkata,Ahmedabad,Mumbai,Hyderabad\",\n",
       "       ' SFDC Developer Work location - Gurugram Experience 4 years to 8 years Developers must have minimum 4-year experience in SFDC implementation\\nSalesforce development certification (highly desired) Excellent organizational, verbal and written communication skills Strong SFDC knowledge and Integration components for SFDC (for example, SFDC APIs, Apex, trigger, batch apex, Schedulable apex , future method configuration and etc\\n) Strong knowledge on Salesforce AURA components and LWC Components\\n(AURA is must) Strong knowledge on Salesforce REST API Integrations\\n(REST API is must) 5+ years experience with end to end Salesforce\\ncom implementations, integrations, and enhancement projects Solid understanding of SaaS and CRM development processes and methodologies\\nWork with leads to transform and develop new requirements into designs, development approaches and implementation Integration experience with other Salesforce Applications and External system\\nCreate supporting technical documentation and detailed design specifications Managing development schedule and human resource\\nCreate testing and implementations plans, including user training and documentation\\nParticipate in the planning/analysis of business requirements for system changes and enhancements\\nCandidate should have working experience as Salesforce developer providing customization, development, enhancement and support for Saleforce\\ncom CRM Applications\\nMust have at least 5 Years of SFDC development experience Should have hands on development experience with Apex, Visual Force page design, Triggers etc\\nShould have through understanding of configuration options\\nMust have Bachelor degree and PD 1 Certification',\n",
       "       'Role - Data Product Manager\\nAbout the Position\\nAt Airtel, the data platform is at the heart of how the business operates. We process 2 trillion events daily and host 100 PB of data. This powers all business and functions across Airtel. Today, the businesses are more data hungry than ever and use cases are ever evolving. To solve this, we need to innovate to make our data platforms self-serve and scalable in every possible way.\\nAs a Data product manager, you would be responsible for developing capabilities that will have customer problems at its heart. You should be able to break down big complex problem statements into smaller addressable units, can think future-proof solutions for each unit, and execute to high standards of quality. You will work on platforms that are highly modular and scalable in usage. At the same time, you should also be responsible in defining customer back shippable capabilities so that the value to the customer and business is delivered frequently and consistently. Be agile to deliver, fail fast and recover.\\nYour stakeholders include but not limited to \\x96 Engineering, Business & Marketing, Analytics, Customer experience teams, Product teams of Channels and platforms. In some of the cases, the stakeholders might extend to Finance and Regulatory teams as well. In short, coordination and managing the stakeholders across functions is one of the key area you should be excelling in.\\nPreferred Skills\\nAn ideal candidate for the Data Product role should have the following experience for at least 2 years-\\nThe candidate should have a strong understanding of data strategy, governance, and data management principles. They should be able to define data governance frameworks, establish data standards, and ensure compliance with data regulations\\nHave a working understanding of the Data Mesh concept and its principles. They should be familiar with the decentralized data architecture, domain-oriented approach, and data product thinking concepts\\nThe candidate should have experience in product or services focused on data. They should be able to define data product roadmaps, prioritize features, and work closely with cross-functional teams to deliver valuable data products\\nStrong analytical skills are helpful for the Data Product Manager to derive insights from data and make data-driven decisions. They should be able to work with Analytics team to generate the applicable Insights from the data for the business\\nCandidates should be able to work with various stakeholders, including domain owners, data engineers, data scientists, Program managers and business teams, to understand requirements, align priorities, and drive successful data product initiatives\\nThe Data Product Manager may not be responsible for hands-on coding, they should have a working technical understanding of data technologies, data architecture, and data integration concepts. This will enable them to effectively collaborate with technical teams and make informed decisions\\nShould be adaptable and willing to explore new technologies and approaches to data management and product development.\\nA strong business acumen and the ability to align data initiatives with business objectives. They should understand the value of data-driven decision-making and be able to articulate the business impact of data products.\\nDefine data product requirements and drive execution with engineering, TPM, and other partner teams.\\nIdentify the problem statements from the business and experience teams, break down the complexities into smaller units of capabilities, and drive this clarity across functions.\\nLiaison with other platform and channel product teams and deconstruct, stitch, and extend capabilities present in digital platforms in order to deliver value for the customer.\\nMake trade-off decisions based on technical and business insights and manage internal and external stakeholders\\nHave a strong bias to action on a day-to-day basis, and call out challenges in the right forums. Be open to feedback and be able to change directions quickly.\\nAdapt to the changing needs of the market and the organisation. Be conscious of the ecosystem, organisation strategies, and recommend the right course of action \\x96 call out trade-offs, but respect decisions.\\nWork with Product leadership to demonstrate the vision, update key milestones, or seek decisions. Your ability to communicate in a clear, crisp manner will go a long way in being successful in this role.\\nPreferred Qualifications:\\nA computer science graduate or equivalent and hands-on experience in product development, as well as a technical understanding of data platform system design at scale. Having an MBA is a plus.\\nA deep understanding of data management, governance, observability, warehousing, and business intelligence technologies, with an inclination to experiment the products to experience the products first-hand\\nAt least 2-3 years of experience as a data product manager, delivering successful data infrastructure platforms at scale.\\nShould be able to understand the customer pain points and business needs and articulate them to the cross functional teams so that the teams can work towards this common goal\\nUnderstanding of tech, architectural frameworks, data flows, and microservices that result in tech capacities.\\nChallenge the status quo, question the why, and get a deep understanding of the business and the products behind them.\\nAn entrepreneurial mindset, end-to-end ownership of the product and work across stakeholders to achieve the desired objectives for the product.\\nExceptional communication, collaboration and ability to evangelize the product or feature.\\nHigh affinity towards data driven decision making, and data driven insights. Should be able to convert data to insights, and insights to ideas.\\nEffective prioritization framework to focus on the right features and capability to ship.',\n",
       "       'Project Role :Application Lead\\n\\n\\nProject Role Description :Lead the effort to design, build and configure applications, acting as the primary point of contact.\\nMust have skills :Salesforce Lightning Web Components\\n\\nGood to have skills :NA\\nMinimum 5 year(s) of experience is required\\n\\nEducational Qualification :15 years education\\nSummary:As an Application Lead, you will be responsible for leading the effort to design, build, and configure applications, acting as the primary point of contact. Your typical day will involve working with Salesforce Lightning Web Components and collaborating with cross-functional teams to deliver high-quality solutions.\\nRoles & Responsibilities:\\nLead the design, development, and implementation of Salesforce Lightning Web Components-based applications.\\nCollaborate with cross-functional teams to gather and analyze business requirements, design solutions, and ensure successful implementation.\\nAct as the primary point of contact for all application-related issues, providing technical guidance and support to team members.\\nEnsure the quality of the application by conducting thorough testing and debugging, and implementing best practices for code development and deployment.\\nStay up-to-date with the latest Salesforce Lightning Web Components trends and technologies, and provide recommendations for improvement and innovation. Professional & Technical Skills:\\nMust To Have Skills:Proficiency in Salesforce Lightning Web Components.\\nStrong understanding of Salesforce development best practices and design patterns.\\nExperience with Salesforce integration and customization using Apex, Visualforce, and other Salesforce technologies.\\nExperience with web development technologies such as HTML, CSS, JavaScript, and jQuery.\\nExperience with Agile development methodologies and tools such as JIRA and Confluence. Additional Information:\\nThe candidate should have a minimum of 5 years of experience in Salesforce Lightning Web Components.\\nThe ideal candidate will possess a strong educational background in computer science or a related field, along with a proven track record of delivering high-quality Salesforce solutions.\\nThis position is based at our Indore office.Qualification15 years education',\n",
       "       'Role & responsibilities\\n\\n\\nRole 1:\\nDesignation Manager\\nExperience 4+ Years\\nQualification BE/B.Tech/ MBA (Regular/Full Time)\\nLocation Gurgaon\\nReports To Team Lead\\nJob Description\\n\\nJob brief and responsibilities:\\nUnderstanding business requirement from respective verticals /functions\\nDefining measurable KPI and measurement of ROI\\nRun Omni channel Campaigns through various channels\\nDrive Automation in increase the efficiency\\nResponsibilities:\\nWorks in coordination with business units to understand requirements and advise on how requirements can best be accomplished.\\nSolicits, evaluates and configures complex journey builds, creates trigger/automation processes\\nSetup of working parameters for Marketing Cloud compatibility to create seamless customer experiences across every touchpoint\\nMonitors performance and maintains the Marketing Cloud system according to business requirements\\nExecute all basic administrative functions including user account maintenance, reports and dashboards, workflows and other routine tasks\\nCreate and maintain API and data integration processes between Salesforce and other services (if required)\\nCreate and maintain Data Extensions and segmentation groups through Data Cloud and track performance\\nBuild internal technical & architectural documentation, manuals, and policies\\nUpgrade Marketing Cloud system with new releases and models\\nTroubleshoots issues and outages with Marketing Cloud or systems that connect to Marketing Cloud\\nSkills required\\n\\nSalesforce Marketing Cloud Administrator Certifications/relevant experience\\nExpert with Salesforce Marketing Cloud operations and technical expertise\\nAttitude and aptitude towards change requests, implementation, troubleshooting\\nWorking with third parties and vendors\\nAdditional Salesforce Marketing Cloud and Data Cloud required skills (for Salesforce Developer)\\no Org setup skills\\no Ability to read & write SQL queries/ JASON queries.\\no Ability to read & write HTML/CSS for emails\\no Able to work with and produce code via Amp scripting\\no Able to work with Guided Template Language (GTL) using JSON data\\no Experience with Customer Data Platforms preferred\\no Experience with Mobile Connect (SMS messaging for marketing purposes)\\no Expected to be a SME on Mobile Studio, Social Studio, Email Studio & Automation Studio etc.\\no Expert at extracting data or building queries to pull insights from platform (Einstein Feature).\\n\\n\\n\\nRole 2:\\n\\nDesignation Manager\\nExperience 4+ Years\\nQualification BE/B.Tech/ MBA (Regular/Full Time)\\nLocation Gurgaon\\nReports To Team Lead\\nJob Description\\n\\nJob brief and responsibilities:\\nUnderstanding and Collaborating with business requirement from respective verticals\\nSalesforce Solution Designing\\nConfiguring, Customization and Maintenance of Salesforce CRM platform\\nDrive Automation in increase the efficiency via Salesforce CRM platform\\nGood Analytical and Communication skills\\nResponsibilities:\\nDriving Configuration and Customization: Customize Salesforce to align with business processes, including creating and modifying fields, objects, workflows, and validation rules\\nData Management: Handle data imports, exports, and maintenance tasks to ensure data integrity and cleanliness. Perform data analysis and create reports and dashboards\\nDriving Automation: Implement and maintain workflow rules, process builder, and automation tools to streamline business processes and enhance productivity\\nCollaborating in Integration: Work on integrating Salesforce with other systems, ensuring seamless data flow and consistency across platforms\\nSupport and Training: Provide ongoing support and training to users, addressing inquiries and issues related to Salesforce functionality. Create documentation for processes and procedures\\nRelease Management: Coordinate and execute Salesforce releases, including testing, deployment, and post-deployment activities.\\nTroubleshooting: Diagnose and resolve issues related to Salesforce configuration, customization, and integrations. Collaborate with cross-functional teams to find solutions.\\nMonitoring and Optimization: Monitor system performance and proactively identify areas for improvement. Optimize Salesforce configurations to enhance overall system efficiency\\nAdaptability; Keep up-to-date with Salesforce updates, new features, and industry best practices to recommend and implement improvements\\nSkills required\\n\\nSalesforce Administrator Certifications/relevant experience\\nExpert with Salesforce Cloud operations and technical expertise\\nAttitude and aptitude towards change requests, implementation, troubleshooting\\nWorking with third parties and vendors\\nAdditional required skills\\no Experience with Salesforce Cloud Platforms\\no Experience with Salesforce Cloud development\\no Ability to read & write SQL queries/ JASON queries',\n",
       "       \"Seeking a Lead Analyst to spearhead transformative projects. A perfect fit for an individual carrying an expertise in SAS, SQL, Tableau, and PowerBI to champion industry best practices and drive impactful solutions.\\n\\nLocation:- Gurgaon\\nYour Future Employer: - A global leader, empowering businesses across industries to optimize operations and drive growth with a team of over 24,000 professionals worldwide, leveraging cutting-edge technology and industry expertise for unparalleled business insights and results.\\n\\nJob Responsibilities:\\nLeading project management, ensuring timely delivery of high-quality solutions and resolution of issues.\\nChampion industry best practices and providing technical guidance across data modeling, visualization, and automation projects.\\nFacilitating client working sessions and oversee day-to-day project operations to meet client expectations.\\nBrainstorming solutions, diagnosing inefficiencies, and providing innovative approaches to problem-solving.\\n\\nRequirements:\\nBachelors/Master's degree in economics, mathematics, computer science/engineering, or related analytics areas.\\n9-11 years of core analytics experience with proficiency in SAS, SQL, Tableau, PowerBI, and other visualization tools.\\nExperience in managing clients directly and leading analytics teams.\\nStrong analytical skills, leadership ability, and initiative-taking mindset.\\nExcellent communication skills and adaptability in a fast-paced environment.\\nUnderstanding of cross-cultural differences and ability to work with clients globally.\\n\\nWhats in it for you:\\nJoin an innovative environment with top professionals to shape business decisions and gain invaluable insights from day one.\\nDevelop skills, receive tailored training, and benefit from personalized coaching for limitless career growth and broader prospects.\\n\\nReach us-\\nIf you think this role will add value to your career, kindly write me an email along with your updated CV on isha.joshi@crescendogroup.in for a confidential discussion on the role.\\n\\nDisclaimer: Crescendo Global is specializes in Senior to C-level niche recruitment. We are passionate about empowering job seekers and employers with an engaging memorable job search and leadership hiring experience. Crescendo Global does not discriminate on the basis of race, religion, color, origin, gender, sexual orientation, age, marital status, veteran status or disability status.\\n\\nNote: We receive a lot of applications on a daily basis so it becomes a bit difficult for us to get back to each candidate. Please assume that your profile has not been shortlisted in case you don't hear back from us in 1 week. Your patience is highly appreciated\\n\\nProfile Keywords: Data analytics, data analysis, data engineering, data science, python, BI, Business intelligence, Power BI, SQL, SAS, Python, Team management, Machine learning, NLP, Crescendo Global.\",\n",
       "       'Project Role :Tech Delivery Subject Matter Expert\\n\\n\\nProject Role Description :Drive innovative practices into delivery, bring depth of expertise to a delivery engagement. Sought out as experts, enhance Accentures marketplace reputation. Bring emerging ideas to life by shaping Accenture and client strategy. Use deep technical expertise, business acumen and fluid communication skills, work directly with a client in a trusted advisor relationship to gather requirements to analyze, design and/or implement technology best practice business changes.\\nMust have skills :Celonis Process Mining Platform\\n\\nGood to have skills :Must have SQL\\nMinimum 5 year(s) of experience is required\\n\\nEducational Qualification :15 years of full-time educationBE /B.Tech / MCA / M.Sc computer scienceMBA would be preferred\\nProject Role:Sr. Data Engineer\\n\\nProject Role Description:Lead the effort to design, build Data models with Celonis, working as the primary point of contact.\\nMust have Skills:\\nData Engineering & data pipeline creation on Celonis with multiple source systems/SQL/PQL and Data Modelling/Process Mining/ Data Mining/Data Warehousing\\nProcess Mining tools Celonis/Signavio\\nPython/Machine Learning\\nExcellent communication and interpersonal skills.\\nObject Centric Process Mining (OCPM)\\nExperience in different component of Celonis like - Views, Action Flows, Skills, Knowledge Model, simulation, and data explorer.Good to have skills:Experience in ETL tools like Informatica/TalendA basic understanding of any of the process flows will be good - P2P, O2C, R2R. Solid grasp of project management methodologies.Knowledge of creating data pipeline with Oracle, SAP, Data Lake, ServiceNow, Salesforce, D-365Key Responsibilities:Support BPM Process Mining Program across Industries and functions by collaborating with the stakeholders and COE cross teams to identify and analyze core business processes and workflowsEstablish data source system connections, configuration & architecting the Data ModelIdentify and quantify process improvement opportunities within Celonis / relevant process mining toolInterpret process data visualized in the dashboards within Celonis / relevant process mining tool and communicate or pitch business finding to the customerCollaborate with functions team to develop Industry cut function contentTechnical ExperienceMin 6+ years of experience in Data Analytics, Data Mining and Process Mining with good knowledge on various tools available in the market for Process MiningExperience in Data source system connections (SAP, Oracle, ServiceNow, Data Lake), configuration & architecting the Data ModelExtract & create Transformations on Client data, Build customize the Data Model based on client business processExperience in Business Process Management Lifecycle (BPML) BPM Analysis & Design, Modelling, Process ExecutionGood understanding & experience in creation of various KPIs used in the processes like Supply chain Procurement, Banking & insuranceMulti-geo service delivery experience across both horizontal and vertical business processesMajor ERPs such as SAP, Oracle, RPA Platforms, and/or AI-based solutions Experience working with complex ERP environmentsExperience in ETL tools like Informatica/Talend is an advantage Professional AttributesGreat analytical skills and Proficient in Problem-solving skillsExcellent communication and interpersonal skills, and core consulting skills (ppt, excels) are a must.Understand & implement the customer requirementsStrong presentation and communication skillsLearn & implement new technologies to enhance/ Augment process mining capabilityEducational Qualification15 years of full-time educationBE /B.Tech / MCA / M.Sc computer scienceMBA would be preferredAdditional InformationNotice Period:ImmediateWork from OfficeLocation:Pan IndiaQualification15 years of full-time educationBE /B.Tech / MCA / M.Sc computer scienceMBA would be preferred',\n",
       "       \"Aarogya Hospital is looking for Marketing Executive to join our dynamic team and embark on a rewarding career journey.\\nResearching and brainstorming each stage of the project.\\nDelegating assignments to members of the graphics and advertising departments, as needed.\\nSupervising employees' work, providing direction and clarification, as needed.\\nEnsuring adherence to clients' specifications.\\nCoordinating efforts to ensure that campaigns are completed.\\nAdhering to time and financial restrictions.\\nTracking changes in consumer engagement following the roll-out of each marketing campaign.\\nCompiling reports detailing the effects exerted by each campaign, and sharing these with clients.\",\n",
       "       'We are seeking a skilled Business Intelligence (BI) Developer to oversee the creation and management of BI and analytics solutions, transforming data into valuable insights.\\n\\nThe ideal candidate should possess a strong background in data and business analysis, along with analytical and communication skills. A sound business understanding and problem-solving abilities are also desired.\\n\\nAs a BI Developer, you will play a pivotal role in enhancing our business intelligence system to drive informed decision-making.\\n\\nJoin us to contribute to our quest for improved outcomes and strategic growth through the power of data-driven insights.\\n\\nResponsibilities\\nTranslate business needs to technical specifications\\nDesign, build and deploy BI solutions (e.g. reporting tools)\\nMaintain and support data analytics platforms (e.g. MicroStrategy)\\nCreate tools to store data (e.g. OLAP cubes)\\nConduct unit testing and troubleshooting\\nEvaluate and improve existing BI systems\\nCollaborate with teams to integrate systems\\nDevelop and execute database queries and conduct analyses\\nCreate visualizations and reports for requested projects\\nDevelop and update technical documentation\\nRequirements and skills\\nProven experience as a BI Developer or Data Scientist\\nIndustry experience is preferred\\nBackground in data warehouse design (e.g. dimensional modeling) and data mining\\nIn-depth understanding of database management systems, online analytical processing (OLAP) and ETL (Extract, transform, load) framework\\nFamiliarity with BI technologies (e.g. Microsoft Power BI, Oracle BI)\\nKnowledge of SQL queries, SQL Server Reporting Services (SSRS) and SQL Server Integration Services (SSIS)\\nProven abilities to take initiative and be innovative\\nAnalytical mind with a problem-solving aptitude\\nBSc/BA in Computer Science, Engineering or relevant field\\nLocation: Pune, Hyderabad, Chennai, Ahmedabad, Kolkata, Remote',\n",
       "       'Required Skills:\\nHands-On Experience in developing business solutions using Salesforce Commerce Cloud (Demandware).\\nExperience in of SFCC / Demandware Script, Java OOP/ Node.js.\\nExpertise in RESTful web services, Ajax-driven client applications, and includes Advanced JavaScript architectures.\\nGood experience in SFRA\\nStrong background of World Wide Web Consortium (W3C), accessibility guidelines, model view controller (MVC), agile development, and tools.\\nExperience in using Pipelines, JS controllers, ISML templates and real-time data exchange using web services.\\nHands-on experience of integrating custom services into SFCC. Good exposure of payment, tax, and operation management suite (OMS) integrations.\\nGood understanding of Business Manager and configuring jobs.\\nStrong SQL knowledge.\\nExposure to technical reports and understanding of Demandware limitations, such as quotas.\\nProficient in Demandware foundational concepts with good knowledge of SiteGenesis, UX Studio, content assets or slots, and Demandware Catalog.\\nSFCC certifications would be preferred.\\nExcellent written and verbal communication skills\\nMotivated to complete tasks independently.\\nCandidates ready to join sooner will be preferred.\\n\\nDuration - 3 to 6 months\\nLocations: Remote, Pan India, Hyderabad,Ahmedabad,pune,Chennai,Kolkata.',\n",
       "       '3 to 6 years experience in Test Engineer role for Salesforce Testing, SFDC testing projects.\\nExperience in Service Cloud. Work during Europe and US shift timings.\\nNeed to travel to US or UK for any short term or long term requirements.\\nCoordinate with multiple stakeholders in the project.\\nUnderstand the business requirements/User Story/Functional specification/Technical specification.\\nPrepare End to End test scenarios, with includes integration with other applications based on user requirements.\\nIdentify/create test data for end to end scenarios. Create/Update manual test cases. Participate in Review Process, Execute Test Cases, Log defects in the tool and participating in defect triage meeting to ensure closure.\\nParticipate in daily calls and provide daily status reports.\\nProvide support to BAs and Process Owners. Provide Functional Clarification, Training and Mentor Test Engineers when required. Assist Test Manger in Planning activities',\n",
       "       'Dear Candidate,\\n\\nWe have an immediate job opportunity for Salesforce Implementation Specialist @ Bangalore/Coimbatore/Noida locations.\\n\\nPlease find the below job description.\\n3+ years experience as a Salesforce Administrator or Salesforce Consultant\\nSalesforce Admin Certification is required. Additional Salesforce Certifications are preferred\\nExperience working with customers to elicit and analyze their requirements, develop designs, and implement custom solutions\\nStrong knowledge of Agile project delivery practices, requirements gathering, user story prioritization and solid UAT guidelines required\\nProficiency in Google Docs, Sheets, Presentations and other online collaboration tools like JIRA and Teams are required\\nExcellent time management skills and the ability to prioritize work as well as work independently is necessary\\nDemonstrated business aptitude with the ability to translate practical business concepts into technical specifications.\\nStrong interpersonal skills, including excellent verbal and written communication skills and presentation skills.\\nAttention to detail and the ability to prioritize and manage competing client demands.\\nLearning agility, including a demonstrated ability to pick up and master business and technical subject matters quickly\\n\\nIf you are interested kindly do send me your resume on the below email id and let me know if you have any references as well.\\n\\nThanks & Regards,\\nManjula\\nmanjula@gionik.com',\n",
       "       'About the Company\\n\\nThe Ayurveda Experience is Americas largest online Ayurvedic house of brands that markets natural, herbal skincare, bodycare, haircare products and wellness supplements. Advanced in 4 continents and having spread its wings in about 20+ countries, with over 1.3 Million customers from the US, UK, Canada, Australia, New Zealand, Germany, France, Italy and Spain and more with thousands of 5-star reviews.\\n\\nWe are PE Funded by several well-known funds and estimated value of the company is about 200 Million USD. We have notable investors likes Jungle Ventures, Fireside Ventures, Centrum Group, Anicut Capital, Singularity Ventures, Sharrp Ventures (Rishabh and Harsh Mariwala Family Office), Urmin Group, Emerge Capital, Riverwalk Holdings etc.\\n\\nAbout the job\\nWe are seeking a highly skilled and motivated Data Scientist to manage and optimize our data infrastructure. The ideal candidate will have a strong foundation in statistics, proficiency in Python, and experience in data visualization and database management. You will be responsible for extracting, transforming, and loading data (ELT pipelines), ensuring the integrity and availability of the data, and providing actionable insights through advanced analytics and visualization tools.\\n\\nResponsibilities:\\n\\nSetup ETL/ELT Pipelines for data from various internal and third party sources.\\nImplement and manage efficient data storage solutions using modern data formats.\\nApply advanced analytical techniques to clean, process, and structure data.\\nDevelop and maintain data models and schemas within our data lake.\\nDevelop and implement statistical models and algorithms to support business objectives\\nVisualize complex datasets and create intuitive dashboards and reports.\\nEnsure data quality, consistency, and security across the data lifecycle.\\nCollaborate with cross-functional teams to develop predictive models and conduct experiments to test hypotheses\\n\\nRequirements:\\n\\nBachelors or Masters degree in Statistics, Data Science, Computer Science, or a related field.\\nMinimum of 3 years of experience as a Data Scientist\\nStrong foundational understanding of statistics and statistical methods.\\nProficiency in Python for data analysis and scripting.\\nExperience with data visualization tools such as Superset, Tableau, or Power BI.\\nAdvanced SQL Skills\\nFamiliarity with ETL/ELT processes and tools for data extraction and transformation.\\nKnowledge of modern data storage solutions and formats.\\nExcellent problem-solving skills and attention to detail.\\nStrong communication and collaboration skills with the ability to convey complex data insights to non-technical stakeholders.\\nAbility to work independently\\n\\nPreferred Skills:\\nExperience with DuckDB / Airbyte /dbt\\nUnderstanding of data lake architecture and management.\\nHands-on experience with cloud storage solutions like Amazon S3.\\n\\nGood communication skills, a humble and cooperative attitude and lots of hard work are the other expectations of the firm.\\n\\nWe are a hardcore, fast-growth focused environment and a place where only dedicated, stable, dependable individuals who are willing to immerse themselves completely to this cause can thrive.\\n\\nIf you are a highly motivated and results-driven Data Scientist with a passion for turning data into insights and driving business success, we encourage you to apply for this exciting opportunity'],\n",
       "      dtype=object)"
      ]
     },
     "execution_count": 15,
     "metadata": {},
     "output_type": "execute_result"
    }
   ],
   "source": [
    "df[\"Job Description\"].unique()"
   ]
  },
  {
   "cell_type": "code",
   "execution_count": 16,
   "id": "3dafe18d-5240-4b61-86cd-5c061bc2f1e4",
   "metadata": {},
   "outputs": [
    {
     "name": "stderr",
     "output_type": "stream",
     "text": [
      "C:\\Users\\sahga\\AppData\\Local\\Temp\\ipykernel_11028\\3096172476.py:1: SettingWithCopyWarning: \n",
      "A value is trying to be set on a copy of a slice from a DataFrame.\n",
      "Try using .loc[row_indexer,col_indexer] = value instead\n",
      "\n",
      "See the caveats in the documentation: https://pandas.pydata.org/pandas-docs/stable/user_guide/indexing.html#returning-a-view-versus-a-copy\n",
      "  df['Applicants'] = df['Applicants'].str.replace('Less than', '')\n"
     ]
    }
   ],
   "source": [
    "df['Applicants'] = df['Applicants'].str.replace('Less than', '')"
   ]
  },
  {
   "cell_type": "code",
   "execution_count": 17,
   "id": "7bc97457-12b3-4cf0-b9b9-b06e776ddec6",
   "metadata": {},
   "outputs": [
    {
     "data": {
      "text/html": [
       "<div>\n",
       "<style scoped>\n",
       "    .dataframe tbody tr th:only-of-type {\n",
       "        vertical-align: middle;\n",
       "    }\n",
       "\n",
       "    .dataframe tbody tr th {\n",
       "        vertical-align: top;\n",
       "    }\n",
       "\n",
       "    .dataframe thead th {\n",
       "        text-align: right;\n",
       "    }\n",
       "</style>\n",
       "<table border=\"1\" class=\"dataframe\">\n",
       "  <thead>\n",
       "    <tr style=\"text-align: right;\">\n",
       "      <th></th>\n",
       "      <th>Job Title</th>\n",
       "      <th>Company Name</th>\n",
       "      <th>Experience Range</th>\n",
       "      <th>Salary</th>\n",
       "      <th>Location</th>\n",
       "      <th>Posted Date</th>\n",
       "      <th>Openings</th>\n",
       "      <th>Applicants</th>\n",
       "      <th>Job Description</th>\n",
       "      <th>Keywords</th>\n",
       "    </tr>\n",
       "  </thead>\n",
       "  <tbody>\n",
       "    <tr>\n",
       "      <th>0</th>\n",
       "      <td>Salesforce Administrator</td>\n",
       "      <td>Lutron Gl Sales</td>\n",
       "      <td>5 - 8</td>\n",
       "      <td>Not Disclosed</td>\n",
       "      <td>Gurugram</td>\n",
       "      <td>7 days ago</td>\n",
       "      <td>1.0</td>\n",
       "      <td>367</td>\n",
       "      <td>Role &amp; responsibilities\\nDirect the daily work...</td>\n",
       "      <td>Sfdc Development, Salesforce Qa, SFDC, Web Dev...</td>\n",
       "    </tr>\n",
       "    <tr>\n",
       "      <th>1</th>\n",
       "      <td>Application Developer</td>\n",
       "      <td>Accenture</td>\n",
       "      <td>2 - 4</td>\n",
       "      <td>Not Disclosed</td>\n",
       "      <td>Noida</td>\n",
       "      <td>8 days ago</td>\n",
       "      <td>0.0</td>\n",
       "      <td>50</td>\n",
       "      <td>Project Role :Application Developer\\n\\n\\nProje...</td>\n",
       "      <td>salesforce platform, salesforce lightning, jav...</td>\n",
       "    </tr>\n",
       "    <tr>\n",
       "      <th>2</th>\n",
       "      <td>Senior Officer</td>\n",
       "      <td>Max Life Insurance</td>\n",
       "      <td>1 - 5</td>\n",
       "      <td>Not Disclosed</td>\n",
       "      <td>Bhopal</td>\n",
       "      <td>Few Hours Ago</td>\n",
       "      <td>1.0</td>\n",
       "      <td>10</td>\n",
       "      <td>Max Life Insurance Company Limited is looking ...</td>\n",
       "      <td>insurance, vendor management, visualforce, pro...</td>\n",
       "    </tr>\n",
       "    <tr>\n",
       "      <th>3</th>\n",
       "      <td>Salesforce Administrator</td>\n",
       "      <td>Lutron Gl Sales</td>\n",
       "      <td>5 - 8</td>\n",
       "      <td>Not Disclosed</td>\n",
       "      <td>Gurugram</td>\n",
       "      <td>7 days ago</td>\n",
       "      <td>1.0</td>\n",
       "      <td>367</td>\n",
       "      <td>Role &amp; responsibilities\\nDirect the daily work...</td>\n",
       "      <td>Sfdc Development, Salesforce Qa, SFDC, Web Dev...</td>\n",
       "    </tr>\n",
       "    <tr>\n",
       "      <th>4</th>\n",
       "      <td>Application Developer</td>\n",
       "      <td>Accenture</td>\n",
       "      <td>2 - 4</td>\n",
       "      <td>Not Disclosed</td>\n",
       "      <td>Noida</td>\n",
       "      <td>8 days ago</td>\n",
       "      <td>0.0</td>\n",
       "      <td>50</td>\n",
       "      <td>Project Role :Application Developer\\n\\n\\nProje...</td>\n",
       "      <td>salesforce platform, salesforce lightning, jav...</td>\n",
       "    </tr>\n",
       "    <tr>\n",
       "      <th>...</th>\n",
       "      <td>...</td>\n",
       "      <td>...</td>\n",
       "      <td>...</td>\n",
       "      <td>...</td>\n",
       "      <td>...</td>\n",
       "      <td>...</td>\n",
       "      <td>...</td>\n",
       "      <td>...</td>\n",
       "      <td>...</td>\n",
       "      <td>...</td>\n",
       "    </tr>\n",
       "    <tr>\n",
       "      <th>399</th>\n",
       "      <td>Tech Delivery Subject Matter Expert</td>\n",
       "      <td>Accenture</td>\n",
       "      <td>5 - 10</td>\n",
       "      <td>Not Disclosed</td>\n",
       "      <td>Gurugram</td>\n",
       "      <td>5 days ago</td>\n",
       "      <td>0.0</td>\n",
       "      <td>10</td>\n",
       "      <td>Project Role :Tech Delivery Subject Matter Exp...</td>\n",
       "      <td>data analytics, data engineering, sql, process...</td>\n",
       "    </tr>\n",
       "    <tr>\n",
       "      <th>400</th>\n",
       "      <td>Marketing Executive</td>\n",
       "      <td>Aarogya Hospital</td>\n",
       "      <td>5 - 9</td>\n",
       "      <td>Not Disclosed</td>\n",
       "      <td>New Delhi</td>\n",
       "      <td>4 days ago</td>\n",
       "      <td>1.0</td>\n",
       "      <td>46</td>\n",
       "      <td>Aarogya Hospital is looking for Marketing Exec...</td>\n",
       "      <td>visualforce, branding, sfdc, business developm...</td>\n",
       "    </tr>\n",
       "    <tr>\n",
       "      <th>401</th>\n",
       "      <td>PowerBI Developer</td>\n",
       "      <td>Rainsoft Global</td>\n",
       "      <td>2 - 4</td>\n",
       "      <td>Not Disclosed</td>\n",
       "      <td>Mumbai</td>\n",
       "      <td>5 days ago</td>\n",
       "      <td>1.0</td>\n",
       "      <td>840</td>\n",
       "      <td>We are seeking a skilled Business Intelligence...</td>\n",
       "      <td>Power BI, BI, Data Analytics, Data Science, Or...</td>\n",
       "    </tr>\n",
       "    <tr>\n",
       "      <th>402</th>\n",
       "      <td>SFCC Backend and Frontend Developer</td>\n",
       "      <td>Leuwint Technologies</td>\n",
       "      <td>4 - 9</td>\n",
       "      <td>Not Disclosed</td>\n",
       "      <td>Mumbai</td>\n",
       "      <td>6 days ago</td>\n",
       "      <td>0.0</td>\n",
       "      <td>59</td>\n",
       "      <td>Required Skills:\\nHands-On Experience in devel...</td>\n",
       "      <td>SFRA, Demandware Script, Salesforce Commerce C...</td>\n",
       "    </tr>\n",
       "    <tr>\n",
       "      <th>403</th>\n",
       "      <td>Sr. Test Engineer</td>\n",
       "      <td>Essenware</td>\n",
       "      <td>3 - 6</td>\n",
       "      <td>Not Disclosed</td>\n",
       "      <td>Kolkata</td>\n",
       "      <td>5 days ago</td>\n",
       "      <td>1.0</td>\n",
       "      <td>2002</td>\n",
       "      <td>3 to 6 years experience in Test Engineer role ...</td>\n",
       "      <td>Training, Test case execution, Manual testing,...</td>\n",
       "    </tr>\n",
       "  </tbody>\n",
       "</table>\n",
       "<p>402 rows × 10 columns</p>\n",
       "</div>"
      ],
      "text/plain": [
       "                               Job Title          Company Name  \\\n",
       "0               Salesforce Administrator       Lutron Gl Sales   \n",
       "1                  Application Developer             Accenture   \n",
       "2                         Senior Officer    Max Life Insurance   \n",
       "3               Salesforce Administrator       Lutron Gl Sales   \n",
       "4                  Application Developer             Accenture   \n",
       "..                                   ...                   ...   \n",
       "399  Tech Delivery Subject Matter Expert             Accenture   \n",
       "400                  Marketing Executive      Aarogya Hospital   \n",
       "401                    PowerBI Developer       Rainsoft Global   \n",
       "402  SFCC Backend and Frontend Developer  Leuwint Technologies   \n",
       "403                    Sr. Test Engineer             Essenware   \n",
       "\n",
       "    Experience Range         Salary   Location    Posted Date  Openings  \\\n",
       "0             5 - 8   Not Disclosed   Gurugram     7 days ago       1.0   \n",
       "1             2 - 4   Not Disclosed      Noida     8 days ago       0.0   \n",
       "2             1 - 5   Not Disclosed     Bhopal  Few Hours Ago       1.0   \n",
       "3             5 - 8   Not Disclosed   Gurugram     7 days ago       1.0   \n",
       "4             2 - 4   Not Disclosed      Noida     8 days ago       0.0   \n",
       "..               ...            ...        ...            ...       ...   \n",
       "399          5 - 10   Not Disclosed   Gurugram     5 days ago       0.0   \n",
       "400           5 - 9   Not Disclosed  New Delhi     4 days ago       1.0   \n",
       "401           2 - 4   Not Disclosed     Mumbai     5 days ago       1.0   \n",
       "402           4 - 9   Not Disclosed     Mumbai     6 days ago       0.0   \n",
       "403           3 - 6   Not Disclosed    Kolkata     5 days ago       1.0   \n",
       "\n",
       "    Applicants                                    Job Description  \\\n",
       "0          367  Role & responsibilities\\nDirect the daily work...   \n",
       "1           50  Project Role :Application Developer\\n\\n\\nProje...   \n",
       "2           10  Max Life Insurance Company Limited is looking ...   \n",
       "3          367  Role & responsibilities\\nDirect the daily work...   \n",
       "4           50  Project Role :Application Developer\\n\\n\\nProje...   \n",
       "..         ...                                                ...   \n",
       "399         10  Project Role :Tech Delivery Subject Matter Exp...   \n",
       "400         46  Aarogya Hospital is looking for Marketing Exec...   \n",
       "401        840  We are seeking a skilled Business Intelligence...   \n",
       "402         59  Required Skills:\\nHands-On Experience in devel...   \n",
       "403       2002  3 to 6 years experience in Test Engineer role ...   \n",
       "\n",
       "                                              Keywords  \n",
       "0    Sfdc Development, Salesforce Qa, SFDC, Web Dev...  \n",
       "1    salesforce platform, salesforce lightning, jav...  \n",
       "2    insurance, vendor management, visualforce, pro...  \n",
       "3    Sfdc Development, Salesforce Qa, SFDC, Web Dev...  \n",
       "4    salesforce platform, salesforce lightning, jav...  \n",
       "..                                                 ...  \n",
       "399  data analytics, data engineering, sql, process...  \n",
       "400  visualforce, branding, sfdc, business developm...  \n",
       "401  Power BI, BI, Data Analytics, Data Science, Or...  \n",
       "402  SFRA, Demandware Script, Salesforce Commerce C...  \n",
       "403  Training, Test case execution, Manual testing,...  \n",
       "\n",
       "[402 rows x 10 columns]"
      ]
     },
     "execution_count": 17,
     "metadata": {},
     "output_type": "execute_result"
    }
   ],
   "source": [
    "df"
   ]
  },
  {
   "cell_type": "code",
   "execution_count": 18,
   "id": "a1ce5304-9b5c-4706-a23e-d52a6f301880",
   "metadata": {},
   "outputs": [
    {
     "name": "stdout",
     "output_type": "stream",
     "text": [
      "Most Sought After Roles:\n",
      "Salesforce Developer                                                40\n",
      "Salesforce Administrator                                            21\n",
      "Software Development Engineer                                       21\n",
      "S&C Global Network - AI - Life Sciences -Data Science Consultant    21\n",
      "Application Developer                                               21\n",
      "Name: Job Title, dtype: int64\n"
     ]
    }
   ],
   "source": [
    "# 1\n",
    "most_sought_after_roles = df['Job Title'].value_counts().head(5)\n",
    "print(\"Most Sought After Roles:\")\n",
    "print(most_sought_after_roles)"
   ]
  },
  {
   "cell_type": "code",
   "execution_count": 19,
   "id": "2b1ba4ea-ea5b-4e35-9926-edcf0a116ace",
   "metadata": {},
   "outputs": [
    {
     "name": "stdout",
     "output_type": "stream",
     "text": [
      "Top Five Skills Sought After in the Market:\n",
      "salesforce: 161 times\n",
      "sfdc: 141 times\n",
      "visualforce: 122 times\n",
      "triggers: 122 times\n",
      "apex: 122 times\n",
      "sql: 103 times\n",
      "SFDC: 101 times\n",
      "salesforce crm: 101 times\n",
      "salesforce lightning: 82 times\n",
      "javascript: 82 times\n"
     ]
    }
   ],
   "source": [
    "# 2\n",
    "from collections import Counter\n",
    "\n",
    "skills = df['Keywords'].str.split(', ').sum()\n",
    "top_skills = Counter(skills).most_common(10)\n",
    "\n",
    "print(\"Top Five Skills Sought After in the Market:\")\n",
    "for skill, count in top_skills:\n",
    "    print(f\"{skill}: {count} times\")"
   ]
  },
  {
   "cell_type": "code",
   "execution_count": 20,
   "id": "2cc3f16e-1c07-4b55-a6a9-87fd26a8baef",
   "metadata": {},
   "outputs": [
    {
     "name": "stdout",
     "output_type": "stream",
     "text": [
      "Top 3 Domains Hiring for Freshers:\n",
      "salesforce: 161 occurrences\n",
      "sfdc: 141 occurrences\n",
      "visualforce: 122 occurrences\n"
     ]
    }
   ],
   "source": [
    "# 3\n",
    "keywords = df['Keywords'].str.split(', ').sum()\n",
    "keyword_counts = Counter(keywords)\n",
    "\n",
    "top_domains = keyword_counts.most_common(3)\n",
    "print(\"Top 3 Domains Hiring for Freshers:\")\n",
    "for domain, count in top_domains:\n",
    "    print(f\"{domain}: {count} occurrences\")"
   ]
  },
  {
   "cell_type": "code",
   "execution_count": 21,
   "id": "31f2afea-93f0-487e-898b-a65b783a597d",
   "metadata": {},
   "outputs": [
    {
     "name": "stdout",
     "output_type": "stream",
     "text": [
      "Top Locations Where the Roles are Located:\n",
      "Gurugram    162\n",
      "Mumbai       80\n",
      "Noida        40\n",
      "Name: Location, dtype: int64\n"
     ]
    }
   ],
   "source": [
    "# 4\n",
    "top_locations = df['Location'].value_counts().head(3)\n",
    "print(\"Top Locations Where the Roles are Located:\")\n",
    "print(top_locations)"
   ]
  },
  {
   "cell_type": "code",
   "execution_count": 22,
   "id": "b9257d72-dfcc-4f29-8590-2e1adfbe3db9",
   "metadata": {},
   "outputs": [
    {
     "name": "stdout",
     "output_type": "stream",
     "text": [
      "Top Locations Where the Roles are Located:\n",
      "Gurugram            162\n",
      "Mumbai               80\n",
      "Noida                40\n",
      "Kolkata              40\n",
      "Bhopal               20\n",
      "Gurgaon/Gurugram     20\n",
      "Indore               20\n",
      "New Delhi            20\n",
      "Name: Location, dtype: int64\n"
     ]
    }
   ],
   "source": [
    "# 5\n",
    "top_locations = df['Location'].value_counts().head(10)\n",
    "print(\"Top Locations Where the Roles are Located:\")\n",
    "print(top_locations)"
   ]
  },
  {
   "cell_type": "code",
   "execution_count": 23,
   "id": "2cad9210-2827-4a84-b740-5ff1d2e1e729",
   "metadata": {},
   "outputs": [
    {
     "data": {
      "image/png": "[encoded data removed]",
      "text/plain": [
       "<Figure size 1000x600 with 1 Axes>"
      ]
     },
     "metadata": {},
     "output_type": "display_data"
    }
   ],
   "source": [
    "import matplotlib.pyplot as plt\n",
    "\n",
    "\n",
    "data_cleaned = df.dropna(subset=['Experience Range'])\n",
    "\n",
    "# Filter for roles requiring 0-2 years of experience\n",
    "freshers_data = data_cleaned[data_cleaned['Experience Range'].str.contains('0 - 2')]\n",
    "\n",
    "# 1. Most Sought After Roles by Freshers (0-2 Years of Experience)\n",
    "most_sought_roles_freshers = freshers_data['Job Title'].value_counts().head(10)\n",
    "\n",
    "# Pie chart for most sought after roles by freshers\n",
    "plt.figure(figsize=(10, 6))\n",
    "most_sought_roles_freshers.plot(kind='pie', autopct='%1.1f%%')\n",
    "plt.title('Most Sought After Roles by Freshers (0-2 Years of Experience)')\n",
    "plt.ylabel('')\n",
    "plt.show()\n",
    "\n"
   ]
  },
  {
   "cell_type": "code",
   "execution_count": 24,
   "id": "721ce946-9397-4098-8449-19d2d2654ee9",
   "metadata": {},
   "outputs": [
    {
     "data": {
      "image/png": "[encoded data removed]",
      "text/plain": [
       "<Figure size 1000x600 with 1 Axes>"
      ]
     },
     "metadata": {},
     "output_type": "display_data"
    }
   ],
   "source": [
    "# 2. Top Five Skills Sought After in the Market\n",
    "skills = data_cleaned['Keywords'].dropna().str.split(', ').explode()\n",
    "top_skills = skills.value_counts().head(5)\n",
    "\n",
    "# Bar graph for top five skills\n",
    "plt.figure(figsize=(10, 6))\n",
    "top_skills.plot(kind='bar')\n",
    "plt.title('Top Five Skills Sought After in the Market')\n",
    "plt.xlabel('Skills')\n",
    "plt.ylabel('Frequency')\n",
    "plt.xticks(rotation=45)\n",
    "plt.show()\n",
    "\n"
   ]
  },
  {
   "cell_type": "code",
   "execution_count": 32,
   "id": "6a7e5d18-1acb-4eba-8387-a26efaf3ea9e",
   "metadata": {},
   "outputs": [
    {
     "data": {
      "image/png": "[encoded data removed]",
      "text/plain": [
       "<Figure size 1000x600 with 1 Axes>"
      ]
     },
     "metadata": {},
     "output_type": "display_data"
    }
   ],
   "source": [
    "# 3. Top 3 Domains Hiring for Freshers\n",
    "# Assuming 'Company Name' can be a proxy for domain/industry\n",
    "top_domains_freshers = data_cleaned['Company Name'].value_counts().head(3)\n",
    "\n",
    "# Bar graph for top 3 domains hiring for freshers\n",
    "plt.figure(figsize=(10, 6))\n",
    "top_domains_freshers.plot(kind='pie')\n",
    "plt.title('Top 3 Domains Hiring for Freshers')\n",
    "plt.xlabel('Domains')\n",
    "plt.ylabel('Number of Job Postings')\n",
    "plt.xticks(rotation=45)\n",
    "plt.show()\n",
    "\n"
   ]
  },
  {
   "cell_type": "code",
   "execution_count": 27,
   "id": "3664d346-2e7b-492b-9456-8e6ff4bb89fe",
   "metadata": {},
   "outputs": [
    {
     "data": {
      "image/png": "[encoded data removed]",
      "text/plain": [
       "<Figure size 1000x600 with 1 Axes>"
      ]
     },
     "metadata": {},
     "output_type": "display_data"
    }
   ],
   "source": [
    "# 4. Top Locations (City/State) for Roles\n",
    "top_locations = data_cleaned['Location'].value_counts().head(10)\n",
    "\n",
    "# Bar graph for top locations\n",
    "plt.figure(figsize=(10, 6))\n",
    "top_locations.plot(kind='bar')\n",
    "plt.title('Top Locations for Roles')\n",
    "plt.xlabel('Locations')\n",
    "plt.ylabel('Number of Job Postings')\n",
    "plt.xticks(rotation=45)\n",
    "plt.show()\n"
   ]
  },
  {
   "cell_type": "code",
   "execution_count": null,
   "id": "c96df699-c0f3-40e6-9676-bb160d716315",
   "metadata": {},
   "outputs": [],
   "source": []
  }
 ],
 "metadata": {
  "kernelspec": {
   "display_name": "Python 3 (ipykernel)",
   "language": "python",
   "name": "python3"
  },
  "language_info": {
   "codemirror_mode": {
    "name": "ipython",
    "version": 3
   },
   "file_extension": ".py",
   "mimetype": "text/x-python",
   "name": "python",
   "nbconvert_exporter": "python",
   "pygments_lexer": "ipython3",
   "version": "3.9.13"
  }
 },
 "nbformat": 4,
 "nbformat_minor": 5
}
