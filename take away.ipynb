{
 "cells": [
  {
   "cell_type": "code",
   "execution_count": null,
   "id": "14e37086-ec3d-4133-a233-35fb16db45ba",
   "metadata": {},
   "outputs": [],
   "source": [
    "mcq\n",
    "1.abc\n",
    "2.b\n",
    "3.d\n",
    "4.a\n",
    "5.ab\n",
    "6.d\n",
    "7.c\n",
    "8.a\n",
    "9.b\n",
    "10.ac\n",
    "11.bcd\n",
    "12.c\n",
    "13.abc\n",
    "14.abc\n",
    "15.a\n",
    "16.c\n",
    "17.a\n",
    "18.a\n",
    "19.ad\n",
    "20.b\n",
    "21.b\n",
    "22.b\n",
    "23.a"
   ]
  },
  {
   "cell_type": "code",
   "execution_count": null,
   "id": "8ebb544e-08a3-475f-b8ef-40ad1c99b0ed",
   "metadata": {},
   "outputs": [],
   "source": [
    "\n",
    "# 1. Handling Missing Values in a Dataset\n",
    "Approach:\n",
    "- Identify Missing Values:\n",
    "    First, identify the columns and rows with missing values using functions like `isnull()` or `info()` in Pandas.\n",
    "- Evaluate Missingness:\n",
    "    Determine the extent and pattern of missing values. If missing values are random (MAR), \n",
    "    it’s often easier to handle them compared to systematic missingness.\n",
    "- Techniques to Handle Missing Values:\n",
    "  -Drop Missing Values:\n",
    "    Use `dropna()` to remove rows or columns with missing values. Suitable if the proportion of missing data is small.\n",
    "\n",
    "\n",
    "#2. Building a Churn Prediction Model\n",
    "\n",
    "Approach:\n",
    "- Logistic Regression:\n",
    "- Decision Trees and Random Forests:** \n",
    "- Gradient Boosting Machines\n",
    "- Support Vector Machines (SVM)\n",
    "- Neural Networks\n",
    "  \n",
    "# 3. Customer Segmentation for a Retail Company\n",
    "\n",
    "- Data Preparation\n",
    "- Clean the Data\n",
    "- Standardize/Normalize\n",
    "  \n",
    "- Feature Selection\n",
    "- Segmentation Techniques\n",
    "- K-Means Clustering \n",
    "- Hierarchical Clustering:\n"
   ]
  },
  {
   "cell_type": "code",
   "execution_count": null,
   "id": "57eb3922-f184-4d08-a069-30c7e6cab0e3",
   "metadata": {},
   "outputs": [],
   "source": []
  }
 ],
 "metadata": {
  "kernelspec": {
   "display_name": "Python 3 (ipykernel)",
   "language": "python",
   "name": "python3"
  },
  "language_info": {
   "codemirror_mode": {
    "name": "ipython",
    "version": 3
   },
   "file_extension": ".py",
   "mimetype": "text/x-python",
   "name": "python",
   "nbconvert_exporter": "python",
   "pygments_lexer": "ipython3",
   "version": "3.9.13"
  }
 },
 "nbformat": 4,
 "nbformat_minor": 5
}
